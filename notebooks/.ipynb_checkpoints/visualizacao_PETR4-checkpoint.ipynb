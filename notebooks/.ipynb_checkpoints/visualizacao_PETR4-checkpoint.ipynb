{
 "cells": [
  {
   "cell_type": "code",
   "execution_count": 9,
   "id": "f93c4cd8",
   "metadata": {},
   "outputs": [],
   "source": [
    "# Em uma célula do Jupyter Notebook:\n",
    "\n",
    "import pandas as pd\n",
    "import matplotlib.pyplot as plt\n",
    "import seaborn as sns\n",
    "import os"
   ]
  },
  {
   "cell_type": "code",
   "execution_count": 6,
   "id": "0f52b818",
   "metadata": {},
   "outputs": [],
   "source": [
    "# Configurações de plotagem (opcional, para melhor visualização)\n",
    "plt.style.use('seaborn-v0_8-darkgrid') # Usando um estilo do seaborn\n",
    "plt.rcParams['figure.figsize'] = (15, 7) # Tamanho padrão das figuras\n",
    "\n",
    "# --- Carregar Dados Processados ---\n",
    "# Ajuste o ticker conforme necessário\n",
    "ticker_symbol = 'PETR4'\n",
    "processed_file_path = f\"../data/processed/processed_stock_data_{ticker_symbol}.csv\""
   ]
  },
  {
   "cell_type": "code",
   "execution_count": 7,
   "id": "4de66eed",
   "metadata": {},
   "outputs": [
    {
     "name": "stdout",
     "output_type": "stream",
     "text": [
      "Dados carregados para PETR4:\n"
     ]
    },
    {
     "data": {
      "text/html": [
       "<div>\n",
       "<style scoped>\n",
       "    .dataframe tbody tr th:only-of-type {\n",
       "        vertical-align: middle;\n",
       "    }\n",
       "\n",
       "    .dataframe tbody tr th {\n",
       "        vertical-align: top;\n",
       "    }\n",
       "\n",
       "    .dataframe thead th {\n",
       "        text-align: right;\n",
       "    }\n",
       "</style>\n",
       "<table border=\"1\" class=\"dataframe\">\n",
       "  <thead>\n",
       "    <tr style=\"text-align: right;\">\n",
       "      <th></th>\n",
       "      <th>Open</th>\n",
       "      <th>High</th>\n",
       "      <th>Low</th>\n",
       "      <th>Close</th>\n",
       "      <th>Volume</th>\n",
       "      <th>Daily_Return</th>\n",
       "      <th>SMA_20</th>\n",
       "      <th>SMA_50</th>\n",
       "    </tr>\n",
       "    <tr>\n",
       "      <th>Date</th>\n",
       "      <th></th>\n",
       "      <th></th>\n",
       "      <th></th>\n",
       "      <th></th>\n",
       "      <th></th>\n",
       "      <th></th>\n",
       "      <th></th>\n",
       "      <th></th>\n",
       "    </tr>\n",
       "  </thead>\n",
       "  <tbody>\n",
       "    <tr>\n",
       "      <th>2020-01-02</th>\n",
       "      <td>11.708283</td>\n",
       "      <td>11.781196</td>\n",
       "      <td>11.631532</td>\n",
       "      <td>11.781196</td>\n",
       "      <td>37774500</td>\n",
       "      <td>NaN</td>\n",
       "      <td>NaN</td>\n",
       "      <td>NaN</td>\n",
       "    </tr>\n",
       "    <tr>\n",
       "      <th>2020-01-03</th>\n",
       "      <td>11.850272</td>\n",
       "      <td>11.988423</td>\n",
       "      <td>11.685259</td>\n",
       "      <td>11.685259</td>\n",
       "      <td>71595600</td>\n",
       "      <td>-0.008143</td>\n",
       "      <td>NaN</td>\n",
       "      <td>NaN</td>\n",
       "    </tr>\n",
       "    <tr>\n",
       "      <th>2020-01-06</th>\n",
       "      <td>11.677583</td>\n",
       "      <td>11.873296</td>\n",
       "      <td>11.493382</td>\n",
       "      <td>11.823408</td>\n",
       "      <td>81844000</td>\n",
       "      <td>0.011823</td>\n",
       "      <td>NaN</td>\n",
       "      <td>NaN</td>\n",
       "    </tr>\n",
       "    <tr>\n",
       "      <th>2020-01-07</th>\n",
       "      <td>11.827246</td>\n",
       "      <td>11.850271</td>\n",
       "      <td>11.692933</td>\n",
       "      <td>11.777359</td>\n",
       "      <td>32822000</td>\n",
       "      <td>-0.003895</td>\n",
       "      <td>NaN</td>\n",
       "      <td>NaN</td>\n",
       "    </tr>\n",
       "    <tr>\n",
       "      <th>2020-01-08</th>\n",
       "      <td>11.777358</td>\n",
       "      <td>11.808058</td>\n",
       "      <td>11.604669</td>\n",
       "      <td>11.704445</td>\n",
       "      <td>48215600</td>\n",
       "      <td>-0.006191</td>\n",
       "      <td>NaN</td>\n",
       "      <td>NaN</td>\n",
       "    </tr>\n",
       "  </tbody>\n",
       "</table>\n",
       "</div>"
      ],
      "text/plain": [
       "                 Open       High        Low      Close    Volume  \\\n",
       "Date                                                               \n",
       "2020-01-02  11.708283  11.781196  11.631532  11.781196  37774500   \n",
       "2020-01-03  11.850272  11.988423  11.685259  11.685259  71595600   \n",
       "2020-01-06  11.677583  11.873296  11.493382  11.823408  81844000   \n",
       "2020-01-07  11.827246  11.850271  11.692933  11.777359  32822000   \n",
       "2020-01-08  11.777358  11.808058  11.604669  11.704445  48215600   \n",
       "\n",
       "            Daily_Return  SMA_20  SMA_50  \n",
       "Date                                      \n",
       "2020-01-02           NaN     NaN     NaN  \n",
       "2020-01-03     -0.008143     NaN     NaN  \n",
       "2020-01-06      0.011823     NaN     NaN  \n",
       "2020-01-07     -0.003895     NaN     NaN  \n",
       "2020-01-08     -0.006191     NaN     NaN  "
      ]
     },
     "metadata": {},
     "output_type": "display_data"
    }
   ],
   "source": [
    "# Verificar se o arquivo existe\n",
    "if not os.path.exists(processed_file_path):\n",
    "    print(f\"Arquivo não encontrado: {processed_file_path}\")\n",
    "    print(\"Certifique-se de que executou o script de pré-processamento primeiro.\")\n",
    "else:\n",
    "    df = pd.read_csv(processed_file_path, index_col='Date', parse_dates=True)\n",
    "    print(f\"Dados carregados para {ticker_symbol}:\")\n",
    "    display(df.head()) # 'display()' é preferível a 'print()' para DataFrames no Jupyter"
   ]
  },
  {
   "cell_type": "markdown",
   "id": "71152002",
   "metadata": {},
   "source": [
    "# Visualizações"
   ]
  },
  {
   "cell_type": "code",
   "execution_count": 8,
   "id": "e090a215",
   "metadata": {},
   "outputs": [
    {
     "ename": "KeyError",
     "evalue": "'Adj Close'",
     "output_type": "error",
     "traceback": [
      "\u001b[1;31m---------------------------------------------------------------------------\u001b[0m",
      "\u001b[1;31mKeyError\u001b[0m                                  Traceback (most recent call last)",
      "File \u001b[1;32m~\\anaconda3\\Lib\\site-packages\\pandas\\core\\indexes\\base.py:3791\u001b[0m, in \u001b[0;36mIndex.get_loc\u001b[1;34m(self, key)\u001b[0m\n\u001b[0;32m   3790\u001b[0m \u001b[38;5;28;01mtry\u001b[39;00m:\n\u001b[1;32m-> 3791\u001b[0m     \u001b[38;5;28;01mreturn\u001b[39;00m \u001b[38;5;28mself\u001b[39m\u001b[38;5;241m.\u001b[39m_engine\u001b[38;5;241m.\u001b[39mget_loc(casted_key)\n\u001b[0;32m   3792\u001b[0m \u001b[38;5;28;01mexcept\u001b[39;00m \u001b[38;5;167;01mKeyError\u001b[39;00m \u001b[38;5;28;01mas\u001b[39;00m err:\n",
      "File \u001b[1;32mindex.pyx:152\u001b[0m, in \u001b[0;36mpandas._libs.index.IndexEngine.get_loc\u001b[1;34m()\u001b[0m\n",
      "File \u001b[1;32mindex.pyx:181\u001b[0m, in \u001b[0;36mpandas._libs.index.IndexEngine.get_loc\u001b[1;34m()\u001b[0m\n",
      "File \u001b[1;32mpandas\\_libs\\hashtable_class_helper.pxi:7080\u001b[0m, in \u001b[0;36mpandas._libs.hashtable.PyObjectHashTable.get_item\u001b[1;34m()\u001b[0m\n",
      "File \u001b[1;32mpandas\\_libs\\hashtable_class_helper.pxi:7088\u001b[0m, in \u001b[0;36mpandas._libs.hashtable.PyObjectHashTable.get_item\u001b[1;34m()\u001b[0m\n",
      "\u001b[1;31mKeyError\u001b[0m: 'Adj Close'",
      "\nThe above exception was the direct cause of the following exception:\n",
      "\u001b[1;31mKeyError\u001b[0m                                  Traceback (most recent call last)",
      "Cell \u001b[1;32mIn[8], line 3\u001b[0m\n\u001b[0;32m      1\u001b[0m \u001b[38;5;66;03m# 1. Preço de Fechamento Ajustado ('Adj Close')\u001b[39;00m\n\u001b[0;32m      2\u001b[0m plt\u001b[38;5;241m.\u001b[39mfigure()\n\u001b[1;32m----> 3\u001b[0m df[\u001b[38;5;124m'\u001b[39m\u001b[38;5;124mAdj Close\u001b[39m\u001b[38;5;124m'\u001b[39m]\u001b[38;5;241m.\u001b[39mplot(title\u001b[38;5;241m=\u001b[39m\u001b[38;5;124mf\u001b[39m\u001b[38;5;124m'\u001b[39m\u001b[38;5;124mPreço de Fechamento Ajustado - \u001b[39m\u001b[38;5;132;01m{\u001b[39;00mticker_symbol\u001b[38;5;132;01m}\u001b[39;00m\u001b[38;5;124m'\u001b[39m)\n\u001b[0;32m      4\u001b[0m plt\u001b[38;5;241m.\u001b[39mylabel(\u001b[38;5;124m'\u001b[39m\u001b[38;5;124mPreço (R$)\u001b[39m\u001b[38;5;124m'\u001b[39m)\n\u001b[0;32m      5\u001b[0m plt\u001b[38;5;241m.\u001b[39mxlabel(\u001b[38;5;124m'\u001b[39m\u001b[38;5;124mData\u001b[39m\u001b[38;5;124m'\u001b[39m)\n",
      "File \u001b[1;32m~\\anaconda3\\Lib\\site-packages\\pandas\\core\\frame.py:3893\u001b[0m, in \u001b[0;36mDataFrame.__getitem__\u001b[1;34m(self, key)\u001b[0m\n\u001b[0;32m   3891\u001b[0m \u001b[38;5;28;01mif\u001b[39;00m \u001b[38;5;28mself\u001b[39m\u001b[38;5;241m.\u001b[39mcolumns\u001b[38;5;241m.\u001b[39mnlevels \u001b[38;5;241m>\u001b[39m \u001b[38;5;241m1\u001b[39m:\n\u001b[0;32m   3892\u001b[0m     \u001b[38;5;28;01mreturn\u001b[39;00m \u001b[38;5;28mself\u001b[39m\u001b[38;5;241m.\u001b[39m_getitem_multilevel(key)\n\u001b[1;32m-> 3893\u001b[0m indexer \u001b[38;5;241m=\u001b[39m \u001b[38;5;28mself\u001b[39m\u001b[38;5;241m.\u001b[39mcolumns\u001b[38;5;241m.\u001b[39mget_loc(key)\n\u001b[0;32m   3894\u001b[0m \u001b[38;5;28;01mif\u001b[39;00m is_integer(indexer):\n\u001b[0;32m   3895\u001b[0m     indexer \u001b[38;5;241m=\u001b[39m [indexer]\n",
      "File \u001b[1;32m~\\anaconda3\\Lib\\site-packages\\pandas\\core\\indexes\\base.py:3798\u001b[0m, in \u001b[0;36mIndex.get_loc\u001b[1;34m(self, key)\u001b[0m\n\u001b[0;32m   3793\u001b[0m     \u001b[38;5;28;01mif\u001b[39;00m \u001b[38;5;28misinstance\u001b[39m(casted_key, \u001b[38;5;28mslice\u001b[39m) \u001b[38;5;129;01mor\u001b[39;00m (\n\u001b[0;32m   3794\u001b[0m         \u001b[38;5;28misinstance\u001b[39m(casted_key, abc\u001b[38;5;241m.\u001b[39mIterable)\n\u001b[0;32m   3795\u001b[0m         \u001b[38;5;129;01mand\u001b[39;00m \u001b[38;5;28many\u001b[39m(\u001b[38;5;28misinstance\u001b[39m(x, \u001b[38;5;28mslice\u001b[39m) \u001b[38;5;28;01mfor\u001b[39;00m x \u001b[38;5;129;01min\u001b[39;00m casted_key)\n\u001b[0;32m   3796\u001b[0m     ):\n\u001b[0;32m   3797\u001b[0m         \u001b[38;5;28;01mraise\u001b[39;00m InvalidIndexError(key)\n\u001b[1;32m-> 3798\u001b[0m     \u001b[38;5;28;01mraise\u001b[39;00m \u001b[38;5;167;01mKeyError\u001b[39;00m(key) \u001b[38;5;28;01mfrom\u001b[39;00m \u001b[38;5;21;01merr\u001b[39;00m\n\u001b[0;32m   3799\u001b[0m \u001b[38;5;28;01mexcept\u001b[39;00m \u001b[38;5;167;01mTypeError\u001b[39;00m:\n\u001b[0;32m   3800\u001b[0m     \u001b[38;5;66;03m# If we have a listlike key, _check_indexing_error will raise\u001b[39;00m\n\u001b[0;32m   3801\u001b[0m     \u001b[38;5;66;03m#  InvalidIndexError. Otherwise we fall through and re-raise\u001b[39;00m\n\u001b[0;32m   3802\u001b[0m     \u001b[38;5;66;03m#  the TypeError.\u001b[39;00m\n\u001b[0;32m   3803\u001b[0m     \u001b[38;5;28mself\u001b[39m\u001b[38;5;241m.\u001b[39m_check_indexing_error(key)\n",
      "\u001b[1;31mKeyError\u001b[0m: 'Adj Close'"
     ]
    },
    {
     "data": {
      "text/plain": [
       "<Figure size 1500x700 with 0 Axes>"
      ]
     },
     "metadata": {},
     "output_type": "display_data"
    }
   ],
   "source": [
    "# 1. Preço de Fechamento Ajustado ('Adj Close')\n",
    "plt.figure()\n",
    "df['Adj Close'].plot(title=f'Preço de Fechamento Ajustado - {ticker_symbol}')\n",
    "plt.ylabel('Preço (R$)')\n",
    "plt.xlabel('Data')\n",
    "plt.show()"
   ]
  },
  {
   "cell_type": "code",
   "execution_count": null,
   "id": "6d7e1a50",
   "metadata": {},
   "outputs": [],
   "source": [
    "# 2. Retornos Diários ('Daily_Return')\n",
    "plt.figure()\n",
    "df['Daily_Return'].plot(title=f'Retornos Diários - {ticker_symbol}', linestyle='--', marker='o', markersize=3)\n",
    "plt.ylabel('Retorno Percentual')\n",
    "plt.xlabel('Data')\n",
    "plt.axhline(0, color='red', linestyle='--', linewidth=0.8) # Linha em zero para referência\n",
    "plt.show()"
   ]
  },
  {
   "cell_type": "code",
   "execution_count": null,
   "id": "e76169e2",
   "metadata": {},
   "outputs": [],
   "source": [
    "# 3. Histograma dos Retornos Diários\n",
    "plt.figure()\n",
    "sns.histplot(df['Daily_Return'].dropna(), bins=50, kde=True) # dropna() para remover o primeiro NaN\n",
    "plt.title(f'Distribuição dos Retornos Diários - {ticker_symbol}')\n",
    "plt.xlabel('Retorno Diário')\n",
    "plt.ylabel('Frequência')\n",
    "plt.show()"
   ]
  },
  {
   "cell_type": "code",
   "execution_count": null,
   "id": "aac555cc",
   "metadata": {},
   "outputs": [],
   "source": [
    "# 4. Preço de Fechamento Ajustado com Médias Móveis\n",
    "plt.figure()\n",
    "df['Adj Close'].plot(label='Adj Close', alpha=0.7)\n",
    "if 'SMA_20' in df.columns:\n",
    "    df['SMA_20'].plot(label='SMA 20 Dias', linestyle='--')\n",
    "if 'SMA_50' in df.columns:\n",
    "    df['SMA_50'].plot(label='SMA 50 Dias', linestyle=':')\n",
    "plt.title(f'Preço de Fechamento Ajustado e Médias Móveis - {ticker_symbol}')\n",
    "plt.ylabel('Preço (R$)')\n",
    "plt.xlabel('Data')\n",
    "plt.legend()\n",
    "plt.show()"
   ]
  }
 ],
 "metadata": {
  "kernelspec": {
   "display_name": "Python 3 (ipykernel)",
   "language": "python",
   "name": "python3"
  },
  "language_info": {
   "codemirror_mode": {
    "name": "ipython",
    "version": 3
   },
   "file_extension": ".py",
   "mimetype": "text/x-python",
   "name": "python",
   "nbconvert_exporter": "python",
   "pygments_lexer": "ipython3",
   "version": "3.11.7"
  }
 },
 "nbformat": 4,
 "nbformat_minor": 5
}
